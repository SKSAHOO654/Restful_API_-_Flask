{
  "nbformat": 4,
  "nbformat_minor": 0,
  "metadata": {
    "colab": {
      "provenance": []
    },
    "kernelspec": {
      "name": "python3",
      "display_name": "Python 3"
    },
    "language_info": {
      "name": "python"
    }
  },
  "cells": [
    {
      "cell_type": "markdown",
      "source": [
        "**Restful API & Flask**"
      ],
      "metadata": {
        "id": "X33Kdo4ouazy"
      }
    },
    {
      "cell_type": "markdown",
      "source": [
        "1 . What is a RESTful API ?  "
      ],
      "metadata": {
        "id": "DyYIa_F3ugSZ"
      }
    },
    {
      "cell_type": "markdown",
      "source": [
        "A RESTful API (Representational State Transfer API) is a type of web service that follows the principles of REST (Representational State Transfer) to enable communication between different systems over the internet."
      ],
      "metadata": {
        "id": "C7CWjwNAugOs"
      }
    },
    {
      "cell_type": "markdown",
      "source": [
        "2 . Explain the concept of API specification ?"
      ],
      "metadata": {
        "id": "-asSvQN-ugLc"
      }
    },
    {
      "cell_type": "markdown",
      "source": [
        "- An API Specification is a detailed document or a contract that describes how a particular API should behave. It provides comprehensive information about the endpoints, request formats, response formats, authentication methods, error codes, and other aspects of how clients can interact with the API.\n",
        "\n",
        "- Essentially, it serves as a blueprint for developers to understand how to consume or integrate with the API without needing access to the actual implementation."
      ],
      "metadata": {
        "id": "FIp8mLPEugHN"
      }
    },
    {
      "cell_type": "markdown",
      "source": [
        "3 . What is Flask, and why is it popular for building APIs ?"
      ],
      "metadata": {
        "id": "IW_o15V2ugEK"
      }
    },
    {
      "cell_type": "markdown",
      "source": [
        "- Flask is a lightweight and flexible web framework for Python that is widely used for building web applications, including RESTful APIs. It provides the essential tools and components needed to create web services without imposing a lot of complexity.\n",
        "\n",
        "- It follows a \"micro\" framework philosophy, meaning it is designed to be simple, extensible, and modular. This allows developers to build scalable APIs by integrating only the components they need."
      ],
      "metadata": {
        "id": "zpMeuSRQugBI"
      }
    },
    {
      "cell_type": "markdown",
      "source": [
        "**- Why is Flask Popular for Building APIs :-**\n",
        "\n",
        " - Simplicity and Ease of Use\n",
        "   - Flask has a minimal and straightforward design, making it easy to get started.\n",
        "   - A simple API can be created with just a few lines of code.\n",
        "\n",
        " - Lightweight and Flexible\n",
        "   - Unlike larger frameworks, Flask does not enforce a specific project structure, allowing developers to customize as needed.\n",
        "   - You can integrate additional libraries like SQLAlchemy for databases or Marshmallow for data validation.\n",
        "\n",
        " - RESTful API Support\n",
        "   - Flask provides built-in support for handling HTTP requests (GET, POST, PUT, DELETE).\n",
        "   - It makes designing RESTful APIs intuitive with the use of Flask routes.\n",
        "\n",
        " - Built-in Development Server\n",
        "   - Comes with a built-in server for development and testing, eliminating the need for additional configuration.\n",
        "\n",
        " - Support for Extensions\n",
        "   - Various Flask extensions are available to add functionalities such as authentication (Flask-JWT), API documentation (Flask-RESTful), and database management (Flask-SQLAlchemy).\n",
        "\n",
        "  - Integration with Python Ecosystem\n",
        "   - Flask works seamlessly with other Python libraries like NumPy, Pandas, and Plotly for data analysis, visualization, or machine learning APIs."
      ],
      "metadata": {
        "id": "haZBmjpuuf9y"
      }
    },
    {
      "cell_type": "markdown",
      "source": [
        "4 . What is routing in Flask ?"
      ],
      "metadata": {
        "id": "LkDRzHsqwoCD"
      }
    },
    {
      "cell_type": "markdown",
      "source": [
        "- Routing in Flask refers to the process of mapping URLs (Uniform Resource Locators) to specific functions in a Flask application. These functions are called view functions and are responsible for handling client requests and returning appropriate responses.\n",
        "\n",
        "- In simple terms, routing allows Flask to determine which piece of code should execute when a specific URL is accessed."
      ],
      "metadata": {
        "id": "IvnPd5w1uf15"
      }
    },
    {
      "cell_type": "markdown",
      "source": [
        "5 . How do you create a simple Flask application ?"
      ],
      "metadata": {
        "id": "urV94mjixLsp"
      }
    },
    {
      "cell_type": "markdown",
      "source": [
        "Step 1: Install Flask\n",
        "Open your terminal and run\n",
        "\n",
        "Step 2: Create Project Folder\n",
        "Make a folder with the following structure\n",
        "- app.py → Your main Flask application.\n",
        "- templates → Store HTML files.\n",
        "\n",
        "Step 3: Write the Code\n",
        "- app.py\n",
        "\n",
        "Step 4: Run the App\n",
        "- Open your terminal, go to the folder\n",
        "- Start the app\n",
        "- Open your browser and visit"
      ],
      "metadata": {
        "id": "BzD1pTUqxQ2L"
      }
    },
    {
      "cell_type": "markdown",
      "source": [
        "6 . What are HTTP methods used in RESTful APIs ?"
      ],
      "metadata": {
        "id": "aQQJITYCxQy-"
      }
    },
    {
      "cell_type": "markdown",
      "source": [
        "In a RESTful API, HTTP methods are used to perform actions on resources (e.g., users, products, orders). Each method has a specific purpose and follows the principles of REST.\n",
        "\n",
        "1. GET\n",
        "- Purpose: Retrieve data from the server.\n",
        "- Safe and Idempotent: Does not modify data.\n",
        "\n",
        "2. POST\n",
        "- Purpose: Create a new resource on the server.\n",
        "- Not Idempotent: Multiple POST requests create multiple resources.\n",
        "\n",
        "3. PUT\n",
        "- Purpose: Update an existing resource or create it if it does not exist.\n",
        "- Idempotent: Repeated requests result in the same outcome.\n",
        "\n",
        "4. PATCH\n",
        "- Purpose: Partially update a resource.\n",
        "- Idempotent: Repeated requests result in the same outcome.\n",
        "\n",
        "5. DELETE\n",
        "- Purpose: Remove a resource from the server.\n",
        "- Idempotent: Deleting a resource multiple times has the same effect."
      ],
      "metadata": {
        "id": "DLmj7LzoxQvm"
      }
    },
    {
      "cell_type": "markdown",
      "source": [
        "7 . What is the purpose of the @app.route() decorator in Flask ?"
      ],
      "metadata": {
        "id": "NtKYNFyvzYw7"
      }
    },
    {
      "cell_type": "markdown",
      "source": [
        "Purpose of the @app.route() Decorator in Flask\n",
        "- The @app.route() decorator in Flask is used to map URLs (routes) to specific view functions in a Flask application. It tells Flask which function should handle a particular URL request.\n",
        "\n",
        "In simple terms:\n",
        "- It binds a URL path to a function.\n",
        "- When a user visits the specified URL, the function is executed.\n",
        "- The function's response is then sent back to the browser."
      ],
      "metadata": {
        "id": "9g5bjZ0_xQsL"
      }
    },
    {
      "cell_type": "markdown",
      "source": [
        "8 . What is the difference between GET and POST HTTP methods ?"
      ],
      "metadata": {
        "id": "VyUs4myAxQoy"
      }
    },
    {
      "cell_type": "markdown",
      "source": [
        "![image.png](data:image/png;base64,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)"
      ],
      "metadata": {
        "id": "8f-QVCoZ3a_y"
      }
    },
    {
      "cell_type": "markdown",
      "source": [
        "9 . How do you handle errors in Flask APIs ?"
      ],
      "metadata": {
        "id": "_JOhskq4362X"
      }
    },
    {
      "cell_type": "markdown",
      "source": [
        "Error handling is essential in Flask APIs to ensure users receive clear and helpful responses when something goes wrong. Flask provides various ways to handle errors gracefully using:\n",
        "\n",
        "- HTTP Status Codes\n",
        "- Custom Error Handlers\n",
        "- Exception Handling with try-except\n",
        "- Error Logging"
      ],
      "metadata": {
        "id": "h9LDNuuT4CoP"
      }
    },
    {
      "cell_type": "markdown",
      "source": [
        "10 . How do you connect Flask to a SQL database ?"
      ],
      "metadata": {
        "id": "WR-2aEDG4T5Q"
      }
    },
    {
      "cell_type": "markdown",
      "source": [
        "Step 1: Install Flask and SQLAlchemy\n",
        "- Run the following command to install Flask and SQLAlchemy\n",
        "\n",
        "Step 2: Set Up Project Structure\n",
        "- Create a simple project structure\n",
        "- app.py → Main application file\n",
        "- data.db → SQLite database (automatically created)\n",
        "\n",
        "Step 3: Configure the Database in Flask\n",
        "- You need to configure the database using SQLAlchemy in app.py.\n",
        "\n",
        "Step 4: Perform CRUD Operations\n",
        "- Here’s how you can perform CRUD (Create, Read, Update, Delete) operations using Flask routes.\n",
        " 1. Create a New User (POST)\n",
        " 2. Get All Users (GET)\n",
        " 3. Update User (PUT)\n",
        " 4. Delete User (DELETE)\n",
        "\n",
        "- Final Steps > Run the application"
      ],
      "metadata": {
        "id": "gY6cEMH74YmQ"
      }
    },
    {
      "cell_type": "markdown",
      "source": [
        "11 .  What is the role of Flask-SQLAlchemy ?"
      ],
      "metadata": {
        "id": "bOCH9KBs5iZ1"
      }
    },
    {
      "cell_type": "markdown",
      "source": [
        "Flask-SQLAlchemy is an Object Relational Mapping (ORM) library that acts as a bridge between Flask applications and SQL databases. It allows developers to interact with databases using Python code instead of writing raw SQL queries."
      ],
      "metadata": {
        "id": "WGQ6Zvyz658A"
      }
    },
    {
      "cell_type": "markdown",
      "source": [
        "12 . What are Flask blueprints, and how are they useful ?"
      ],
      "metadata": {
        "id": "xSLtgOEM6-D5"
      }
    },
    {
      "cell_type": "markdown",
      "source": [
        "Flask Blueprints are a way to organize and structure a Flask application into modular components. Instead of putting all routes, views, and logic into a single app.py file, you can split them into multiple files using blueprints.\n",
        "\n",
        "- Large applications with many routes\n",
        "- Code reusability across projects\n",
        "- Maintaining cleaner code\n",
        "- Collaborative development by dividing tasks among teams"
      ],
      "metadata": {
        "id": "kfYSy_ZL7C5p"
      }
    },
    {
      "cell_type": "markdown",
      "source": [
        "13 . What is the purpose of Flask's request object ?"
      ],
      "metadata": {
        "id": "TdYD412w7Tb4"
      }
    },
    {
      "cell_type": "markdown",
      "source": [
        "- Purpose of Flask's request Object\n",
        " - In Flask, the request object is used to access data that a client (browser, API client, etc.) sends to the server when making an HTTP request.\n",
        "\n",
        "- Request Data → Form data, JSON data, query parameters, etc.\n",
        "- Headers → Metadata sent with the request.\n",
        "- Cookies → Data stored on the client-side.\n",
        "- Files → Uploaded files.\n",
        "- HTTP Methods → GET, POST, PUT, DELETE, etc."
      ],
      "metadata": {
        "id": "STXoq60E7Y22"
      }
    },
    {
      "cell_type": "markdown",
      "source": [
        "14 . How do you create a RESTful API endpoint using Flask ?"
      ],
      "metadata": {
        "id": "cMbbsp--7nYo"
      }
    },
    {
      "cell_type": "markdown",
      "source": [
        "Step 1: Install Flask\n",
        "- If Flask is not installed, you can install it using\n",
        "\n",
        "Step 2: Project Structure\n",
        "Here’s a simple project structure:\n",
        "- app.py → Main Flask application file.\n",
        "\n",
        "Step 3: Create a Basic Flask RESTful API\n",
        "- Follow these steps to create a basic API for managing a list of books.\n",
        "1. Import Required Modules\n",
        "2. Create RESTful API Endpoints\n",
        " 1. GET - Retrieve All Books\n",
        " 2. GET - Retrieve a Single Book by ID\n",
        " 3. POST - Add a New Book\n",
        " 4. PUT - Update an Existing Book\n",
        " 5. DELETE - Delete a Book\n",
        "\n",
        "Step 4: Run the Application\n",
        "- Save the file as app.py and run"
      ],
      "metadata": {
        "id": "ihdnES497whV"
      }
    },
    {
      "cell_type": "markdown",
      "source": [
        "15 . What is the purpose of Flask's jsonify() function ?"
      ],
      "metadata": {
        "id": "HxSdf2tD8-Mk"
      }
    },
    {
      "cell_type": "markdown",
      "source": [
        "In Flask, the jsonify() function is used to convert Python data (like dictionaries, lists, or tuples) into a JSON (JavaScript Object Notation) response that can be sent to the client."
      ],
      "metadata": {
        "id": "pspmTfI39CSU"
      }
    },
    {
      "cell_type": "markdown",
      "source": [
        "16 . Explain Flask’s url_for() function ?"
      ],
      "metadata": {
        "id": "XfH2Jwc59Jl0"
      }
    },
    {
      "cell_type": "markdown",
      "source": [
        "- In Flask, the url_for() function is used to generate URLs for your application’s routes based on the route’s name (function name).\n",
        "\n",
        "- Instead of hardcoding URLs directly in your templates or code, url_for() provides a flexible and maintainable way to create URLs. If the route changes, url_for() will automatically generate the correct URL."
      ],
      "metadata": {
        "id": "LgX7xTfr9PgM"
      }
    },
    {
      "cell_type": "markdown",
      "source": [
        "17 . How does Flask handle static files (CSS, JavaScript, etc.) ?"
      ],
      "metadata": {
        "id": "L5lM78dW9VBk"
      }
    },
    {
      "cell_type": "markdown",
      "source": [
        "Flask has a built-in mechanism to serve static files like:\n",
        "\n",
        "- CSS → For styling the application\n",
        "\n",
        "- JavaScript → For client-side interactivity\n",
        "\n",
        "- Images → For displaying visuals\n",
        "\n",
        "Flask automatically looks for static files inside a directory named static in your project."
      ],
      "metadata": {
        "id": "Ir79Cvq59a8C"
      }
    },
    {
      "cell_type": "markdown",
      "source": [
        "18 . What is an API specification, and how does it help in building a Flask API ?\n"
      ],
      "metadata": {
        "id": "eJlC3SJd9nNr"
      }
    },
    {
      "cell_type": "markdown",
      "source": [
        "An API Specification is a detailed document or definition that describes how an API should function. It provides information on:\n",
        "\n",
        "- Endpoints → The available URLs to interact with the API.\n",
        "\n",
        "- HTTP Methods → (GET, POST, PUT, DELETE, etc.) that the API supports.\n",
        "\n",
        "- Request Parameters → Path parameters, query parameters, or body data.\n",
        "\n",
        "- Responses → The data format, status codes, and error messages.\n",
        "\n",
        "- Authentication → How to securely access the API.\n",
        "\n",
        "In short: An API specification serves as a blueprint that helps developers understand how to consume or build the API."
      ],
      "metadata": {
        "id": "0h_Fcs4o9wXa"
      }
    },
    {
      "cell_type": "markdown",
      "source": [
        "19 . What are HTTP status codes, and why are they important in a Flask API ?"
      ],
      "metadata": {
        "id": "ysNnIFzM93aJ"
      }
    },
    {
      "cell_type": "markdown",
      "source": [
        "HTTP Status Codes are 3-digit numeric codes returned by a web server to indicate the outcome of a client's request.\n",
        "\n",
        "- Communicating results → Inform clients whether their request was successful or not.\n",
        "\n",
        "- Error Diagnosis → Provide clear information about why a request failed.\n",
        "\n",
        "- API Behavior Management → Enable clients to handle different scenarios programmatically.\n",
        "\n",
        "- Standardized Communication → Follow web standards for compatibility with other systems."
      ],
      "metadata": {
        "id": "4csGSF1t9_Yc"
      }
    },
    {
      "cell_type": "markdown",
      "source": [
        "20 . How do you handle POST requests in Flask ?"
      ],
      "metadata": {
        "id": "R634WpYi-LN6"
      }
    },
    {
      "cell_type": "markdown",
      "source": [
        "In Flask, you can handle POST requests using the @app.route() decorator with methods=['POST'].\n",
        "\n",
        "- Send data to the server\n",
        "\n",
        "- Create new resources (e.g., add new data to a database)\n",
        "\n",
        "- Submit form data\n",
        "\n",
        "\n",
        "= request.get_json() → Extracts data from the POST request.\n",
        "\n",
        "= Validation → Checks if the required fields (name, email) are present.\n",
        "\n",
        "= Data Storage → Stores user data in the users list (simulating a database).\n",
        "\n",
        "= Response → Returns the created user and a 201 Created status code."
      ],
      "metadata": {
        "id": "bVP9r77P-PNS"
      }
    },
    {
      "cell_type": "markdown",
      "source": [
        "21 . How would you secure a Flask API ?"
      ],
      "metadata": {
        "id": "_No6mNL8-aV4"
      }
    },
    {
      "cell_type": "markdown",
      "source": [
        "1. Use HTTPS\n",
        "- HTTPS encrypts data in transit using TLS/SSL certificates, protecting sensitive information.\n",
        " - Obtain an SSL certificate using providers like Let's Encrypt.\n",
        " - Ensure your API URLs start with https:// instead of http://.\n",
        "\n",
        "\n",
        "2. Implement Authentication\n",
        "- Use Token-Based Authentication with JWT (JSON Web Token) or OAuth2.\n",
        "- Ensure only authenticated users can access sensitive endpoints.\n",
        "\n",
        "\n",
        "3. Implement Authorization\n",
        "- Ensure users have permission to access resources using Role-Based Access Control (RBAC).\n",
        "- Example roles: Admin, User, Editor.\n",
        "- Restrict access using conditional checks\n",
        "\n",
        "4. Input Validation and Sanitization\n",
        "- Validate all user inputs using tools like marshmallow or pydantic.\n",
        "- Prevent SQL Injection and XSS attacks by rejecting malicious inputs.\n",
        "\n",
        "5. Use API Rate Limiting\n",
        "- Prevent Denial-of-Service (DoS) attacks using rate limiting.\n",
        "- Use Flask-Limiter to restrict API calls.\n",
        "\n",
        "\n",
        "6. Enable CORS Protection\n",
        "- CORS (Cross-Origin Resource Sharing) controls which domains can access your API.\n",
        "- Use Flask-CORS to configure CORS policies.\n",
        "\n",
        "7. Use Proper Error Handling\n",
        "- Provide clear error messages using Flask error handlers.\n",
        "- Avoid exposing sensitive information.\n",
        "\n",
        "8. Logging and Monitoring\n",
        "- Use Flask-Logging to log errors and requests.\n",
        "- Monitor API performance using tools like Prometheus or ELK Stack."
      ],
      "metadata": {
        "id": "jxoc2YXZ-6O3"
      }
    },
    {
      "cell_type": "markdown",
      "source": [
        "22 . What is the significance of the Flask-RESTful extension ?"
      ],
      "metadata": {
        "id": "SH2jsgpdAXSj"
      }
    },
    {
      "cell_type": "markdown",
      "source": [
        "Flask-RESTful is a powerful extension for Flask that simplifies the process of building RESTful APIs. It provides tools and abstractions to manage API endpoints efficiently.\n",
        "\n",
        "\n",
        "- Cleaner Code → Helps organize APIs using classes and methods.\n",
        "\n",
        "- Efficient Routing → Provides built-in routing management.\n",
        "\n",
        "- Request Parsing → Makes data validation easier.\n",
        "\n",
        "- Error Handling → Offers simplified error management.\n",
        "\n",
        "- Serialization → Easily convert Python objects to JSON using marshal."
      ],
      "metadata": {
        "id": "W9WImF40AcDy"
      }
    },
    {
      "cell_type": "markdown",
      "source": [
        "23 .  What is the role of Flask’s session object ?"
      ],
      "metadata": {
        "id": "8KmwUFgcApMy"
      }
    },
    {
      "cell_type": "markdown",
      "source": [
        "In Flask, the session object is used to store data that is specific to a user across multiple requests. It allows you to manage user sessions by storing information like:\n",
        "\n",
        "- Login status\n",
        "\n",
        "- User preferences\n",
        "\n",
        "- Shopping cart items\n",
        "\n",
        "- User-specific data\n",
        "\n",
        "The data stored in a Flask session is maintained between requests using cookies."
      ],
      "metadata": {
        "id": "ZJlhxzxbAui6"
      }
    }
  ]
}